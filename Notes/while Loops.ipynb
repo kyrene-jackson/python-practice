{
 "cells": [
  {
   "cell_type": "markdown",
   "metadata": {},
   "source": [
    "# while Loops\n",
    "The `while` statement in python is one of the most general ways to perform iteration. A while statement will repeatedly execute a single statement or group or statements as long as the condition is true. The code statements are looped through over and over again until the condition is no longer met."
   ]
  },
  {
   "cell_type": "markdown",
   "metadata": {},
   "source": [
    "Let's look at a few simple while loops in action:"
   ]
  },
  {
   "cell_type": "code",
   "execution_count": 2,
   "metadata": {},
   "outputs": [
    {
     "name": "stdout",
     "output_type": "stream",
     "text": [
      "x is currently:  0\n",
      " x is stil less than 10, adding 1 to x\n",
      "x is currently:  1\n",
      " x is stil less than 10, adding 1 to x\n",
      "x is currently:  2\n",
      " x is stil less than 10, adding 1 to x\n",
      "x is currently:  3\n",
      " x is stil less than 10, adding 1 to x\n",
      "x is currently:  4\n",
      " x is stil less than 10, adding 1 to x\n",
      "x is currently:  5\n",
      " x is stil less than 10, adding 1 to x\n",
      "x is currently:  6\n",
      " x is stil less than 10, adding 1 to x\n",
      "x is currently:  7\n",
      " x is stil less than 10, adding 1 to x\n",
      "x is currently:  8\n",
      " x is stil less than 10, adding 1 to x\n",
      "x is currently:  9\n",
      " x is stil less than 10, adding 1 to x\n"
     ]
    }
   ],
   "source": [
    "x = 0\n",
    "\n",
    "while x < 10:\n",
    "    print('x is currently: ', x)\n",
    "    print(' x is stil less than 10, adding 1 to x')\n",
    "    x+=1"
   ]
  },
  {
   "cell_type": "markdown",
   "metadata": {},
   "source": [
    "Now lets add an else statement:"
   ]
  },
  {
   "cell_type": "code",
   "execution_count": 5,
   "metadata": {},
   "outputs": [
    {
     "name": "stdout",
     "output_type": "stream",
     "text": [
      "x is currently:  0\n",
      " x is still less than 10, adding 1 to x\n",
      "x is currently:  1\n",
      " x is still less than 10, adding 1 to x\n",
      "x is currently:  2\n",
      " x is still less than 10, adding 1 to x\n",
      "x is currently:  3\n",
      " x is still less than 10, adding 1 to x\n",
      "x is currently:  4\n",
      " x is still less than 10, adding 1 to x\n",
      "x is currently:  5\n",
      " x is still less than 10, adding 1 to x\n",
      "x is currently:  6\n",
      " x is still less than 10, adding 1 to x\n",
      "x is currently:  7\n",
      " x is still less than 10, adding 1 to x\n",
      "x is currently:  8\n",
      " x is still less than 10, adding 1 to x\n",
      "x is currently:  9\n",
      " x is still less than 10, adding 1 to x\n",
      "All done!\n"
     ]
    }
   ],
   "source": [
    "x = 0\n",
    "\n",
    "while x < 10:\n",
    "    print('x is currently: ',x)\n",
    "    print(' x is still less than 10, adding 1 to x')\n",
    "    x+=1\n",
    "    \n",
    "else:\n",
    "    print('All done!')"
   ]
  },
  {
   "cell_type": "markdown",
   "metadata": {},
   "source": [
    "## break, continue, pass\n",
    "We can use `break`, `continue`, and `pass` statements in our loops to add additional functionality for various cases. The three statements are defined by:\n",
    "\n",
    "- break: Breaks out of the current closest enclosing loop.\n",
    "- continue: Goes to the top of the closest enclosing loop.\n",
    "- pass: Does nothing at all."
   ]
  },
  {
   "cell_type": "code",
   "execution_count": 7,
   "metadata": {},
   "outputs": [
    {
     "name": "stdout",
     "output_type": "stream",
     "text": [
      "x is currently:  0\n",
      " x is still currently less than 10, adding 1 to x\n",
      "continuing...\n",
      "x is currently:  1\n",
      " x is still currently less than 10, adding 1 to x\n",
      "continuing...\n",
      "x is currently:  2\n",
      " x is still currently less than 10, adding 1 to x\n",
      "x==3\n",
      "x is currently:  3\n",
      " x is still currently less than 10, adding 1 to x\n",
      "continuing...\n",
      "x is currently:  4\n",
      " x is still currently less than 10, adding 1 to x\n",
      "continuing...\n",
      "x is currently:  5\n",
      " x is still currently less than 10, adding 1 to x\n",
      "continuing...\n",
      "x is currently:  6\n",
      " x is still currently less than 10, adding 1 to x\n",
      "continuing...\n",
      "x is currently:  7\n",
      " x is still currently less than 10, adding 1 to x\n",
      "continuing...\n",
      "x is currently:  8\n",
      " x is still currently less than 10, adding 1 to x\n",
      "continuing...\n",
      "x is currently:  9\n",
      " x is still currently less than 10, adding 1 to x\n",
      "continuing...\n"
     ]
    }
   ],
   "source": [
    "x = 0\n",
    "\n",
    "while x < 10:\n",
    "    print('x is currently: ',x)\n",
    "    print(' x is still currently less than 10, adding 1 to x')\n",
    "    x+=1\n",
    "    if x ==3:\n",
    "        print('x==3')\n",
    "    else:\n",
    "        print('continuing...')\n",
    "        continue"
   ]
  },
  {
   "cell_type": "code",
   "execution_count": null,
   "metadata": {},
   "outputs": [],
   "source": []
  }
 ],
 "metadata": {
  "kernelspec": {
   "display_name": "Python 3",
   "language": "python",
   "name": "python3"
  },
  "language_info": {
   "codemirror_mode": {
    "name": "ipython",
    "version": 3
   },
   "file_extension": ".py",
   "mimetype": "text/x-python",
   "name": "python",
   "nbconvert_exporter": "python",
   "pygments_lexer": "ipython3",
   "version": "3.6.4"
  }
 },
 "nbformat": 4,
 "nbformat_minor": 2
}
